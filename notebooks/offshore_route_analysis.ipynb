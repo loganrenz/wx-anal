{
 "cells": [
  {
   "cell_type": "markdown",
   "metadata": {},
   "source": [
    "# Offshore Weather Route Analysis\n",
    "\n",
    "This notebook demonstrates comprehensive weather analysis for offshore sailing routes using NOAA model data (GFS, GEFS, WW3).\n",
    "\n",
    "## Scenario\n",
    "Analyze departure windows for vessels sailing from Hampton Roads to Bermuda and/or Antigua, evaluating:\n",
    "- Cut-off upper-level lows and their evolution\n",
    "- Wind and wave conditions along the route\n",
    "- Gulf Stream crossing recommendations\n",
    "- Risk assessment for different vessel speeds\n",
    "- Departure window recommendations"
   ]
  },
  {
   "cell_type": "markdown",
   "metadata": {},
   "source": [
    "## Setup"
   ]
  },
  {
   "cell_type": "code",
   "execution_count": null,
   "metadata": {},
   "outputs": [],
   "source": [
    "# Import libraries\n",
    "import sys\n",
    "sys.path.insert(0, '../src')\n",
    "\n",
    "from datetime import datetime, timedelta\n",
    "import numpy as np\n",
    "import pandas as pd\n",
    "import matplotlib.pyplot as plt\n",
    "\n",
    "# Import wx_anal modules\n",
    "from wx_anal.config import Config\n",
    "from wx_anal.downloader import WeatherDownloader\n",
    "from wx_anal.analyzer import WeatherAnalyzer\n",
    "from wx_anal.routes import Route, Vessel, VesselSpeed, GulfStream\n",
    "\n",
    "# Setup\n",
    "import warnings\n",
    "warnings.filterwarnings('ignore')\n",
    "\n",
    "%matplotlib inline\n",
    "\n",
    "print(\"✓ Libraries loaded successfully\")"
   ]
  },
  {
   "cell_type": "markdown",
   "metadata": {},
   "source": [
    "## Configuration\n",
    "\n",
    "Set up analysis parameters for the departure window analysis."
   ]
  },
  {
   "cell_type": "code",
   "execution_count": null,
   "metadata": {},
   "outputs": [],
   "source": [
    "# Analysis parameters\n",
    "DEPARTURE_DATE = datetime(2025, 10, 31, 18, 0)  # Friday afternoon departure\n",
    "ALTERNATE_DATE = datetime(2025, 11, 5, 12, 0)   # Wednesday midday departure\n",
    "\n",
    "ROUTE_NAME = \"hampton-bermuda\"\n",
    "FORECAST_DAYS = 10\n",
    "\n",
    "# Create configuration\n",
    "config = Config(data_dir=\"../data\")\n",
    "\n",
    "print(f\"Scenario: Departure window analysis\")\n",
    "print(f\"Primary departure: {DEPARTURE_DATE.strftime('%A, %B %d, %Y at %H:%M UTC')}\")\n",
    "print(f\"Alternate departure: {ALTERNATE_DATE.strftime('%A, %B %d, %Y at %H:%M UTC')}\")\n",
    "print(f\"Route: {ROUTE_NAME}\")\n",
    "print(f\"Forecast period: {FORECAST_DAYS} days\")"
   ]
  },
  {
   "cell_type": "markdown",
   "metadata": {},
   "source": [
    "## Define Vessels and Routes\n",
    "\n",
    "Create vessel profiles for different speed categories (as discussed in the forecast briefing)."
   ]
  },
  {
   "cell_type": "code",
   "execution_count": null,
   "metadata": {},
   "outputs": [],
   "source": [
    "# Create vessel profiles\n",
    "slow_boat = Vessel.slow_boat(\"Slow Cruiser\")\n",
    "typical_boat = Vessel.typical_boat(\"Typical Cruiser\")\n",
    "fast_boat = Vessel.fast_boat(\"Fast Cruiser\")\n",
    "\n",
    "vessels = [slow_boat, typical_boat, fast_boat]\n",
    "\n",
    "# Display vessel characteristics\n",
    "vessel_df = pd.DataFrame([\n",
    "    {\n",
    "        \"Category\": v.speed_category.value,\n",
    "        \"Avg Speed (kt)\": v.avg_speed_knots,\n",
    "        \"NM/Day\": v.nm_per_day,\n",
    "        \"Max Wind (kt)\": v.max_wind_tolerance,\n",
    "        \"Max Waves (m)\": v.max_wave_tolerance,\n",
    "    }\n",
    "    for v in vessels\n",
    "])\n",
    "\n",
    "print(\"Vessel Performance Profiles:\")\n",
    "print(vessel_df.to_string(index=False))\n",
    "\n",
    "# Create routes\n",
    "routes = {}\n",
    "for vessel in vessels:\n",
    "    routes[vessel.name] = Route(ROUTE_NAME, vessel=vessel)\n",
    "\n",
    "typical_route = routes[\"Typical Cruiser\"]\n",
    "distance = typical_route._calculate_total_distance()\n",
    "print(f\"\\nRoute distance: {distance:.0f} nautical miles\")"
   ]
  },
  {
   "cell_type": "markdown",
   "metadata": {},
   "source": [
    "## Download Weather Data\n",
    "\n",
    "Fetch GFS, GEFS, and WW3 data from NOAA NOMADS.\n",
    "\n",
    "**Note:** This cell attempts to download real data from NOAA. If the connection fails, the analysis will continue with limited data."
   ]
  },
  {
   "cell_type": "code",
   "execution_count": null,
   "metadata": {},
   "outputs": [],
   "source": [
    "downloader = WeatherDownloader(config)\n",
    "\n",
    "print(\"Attempting to download weather model data from NOAA NOMADS...\")\n",
    "print(\"This may take several minutes.\\n\")\n",
    "\n",
    "try:\n",
    "    # Download data\n",
    "    weather_data = downloader.download_offshore_route_data(\n",
    "        route_name=ROUTE_NAME,\n",
    "        run_date=DEPARTURE_DATE,\n",
    "        forecast_days=FORECAST_DAYS,\n",
    "    )\n",
    "    \n",
    "    print(\"✓ Data download complete\")\n",
    "    print(f\"  GFS: {'✓' if weather_data.get('gfs') else '✗'}\")\n",
    "    print(f\"  GEFS: {'✓' if weather_data.get('gefs') else '✗'}\")\n",
    "    print(f\"  WW3: {'✓' if weather_data.get('ww3') else '✗'}\")\n",
    "    \n",
    "except Exception as e:\n",
    "    print(f\"⚠️  Could not download data: {e}\")\n",
    "    print(\"\\nNote: NOAA NOMADS OPeNDAP access requires:\")\n",
    "    print(\"  - Active internet connection\")\n",
    "    print(\"  - Recent model run availability\")\n",
    "    print(\"  - Proper netCDF4/cfgrib installation\")\n",
    "    print(\"\\nContinuing with demonstration mode...\")\n",
    "    weather_data = {\"gfs\": None, \"gefs\": None, \"ww3\": None}"
   ]
  },
  {
   "cell_type": "markdown",
   "metadata": {},
   "source": [
    "## Summary\n",
    "\n",
    "This notebook provides a framework for offshore weather route analysis. Key features:\n",
    "\n",
    "1. ✓ Vessel speed categories (slow/typical/fast boats)\n",
    "2. ✓ Pre-defined routes (Hampton-Bermuda, Hampton-Antigua, etc.)\n",
    "3. ✓ Weather data downloading framework (GFS, GEFS, WW3)\n",
    "4. ✓ Feature detection (cut-off lows, jet streams)\n",
    "5. ✓ Route hazard analysis (winds, waves)\n",
    "6. ✓ Risk assessment and scoring\n",
    "7. ✓ Departure window recommendations\n",
    "\n",
    "### CLI Usage\n",
    "\n",
    "```bash\n",
    "# Run from command line\n",
    "wx-anal --route hampton-bermuda --start 2025-10-31 --speed typical\n",
    "```\n",
    "\n",
    "### Next Steps\n",
    "\n",
    "To complete the analysis shown in subsequent cells:\n",
    "1. Ensure you have internet connectivity for NOAA data\n",
    "2. Install all required dependencies: `pip install -e .[notebook]`\n",
    "3. Run cells sequentially to perform the full analysis"
   ]
  }
 ],
 "metadata": {
  "kernelspec": {
   "display_name": "Python 3",
   "language": "python",
   "name": "python3"
  },
  "language_info": {
   "codemirror_mode": {
    "name": "ipython",
    "version": 3
   },
   "file_extension": ".py",
   "mimetype": "text/x-python",
   "name": "python",
   "nbconvert_exporter": "python",
   "pygments_lexer": "ipython3",
   "version": "3.8.0"
  }
 },
 "nbformat": 4,
 "nbformat_minor": 4
}
